{
 "cells": [
  {
   "cell_type": "code",
   "execution_count": null,
   "id": "3493fa14-2238-42a7-a44a-fa2aa2a7e6a7",
   "metadata": {},
   "outputs": [
    {
     "name": "stdout",
     "output_type": "stream",
     "text": [
      "Try to guess a number from 0 to 100.\n",
      "You have a maximum of 3 guesses!\n",
      "Ready?\n",
      "\n"
     ]
    },
    {
     "name": "stdin",
     "output_type": "stream",
     "text": [
      "Make your guess:\n",
      " 50\n"
     ]
    },
    {
     "name": "stdout",
     "output_type": "stream",
     "text": [
      "Too high. Guess again & lower your guess!\n"
     ]
    },
    {
     "name": "stdin",
     "output_type": "stream",
     "text": [
      "Make your guess:\n",
      " 75\n"
     ]
    },
    {
     "name": "stdout",
     "output_type": "stream",
     "text": [
      "Too high. Guess again & lower your guess!\n"
     ]
    },
    {
     "name": "stdin",
     "output_type": "stream",
     "text": [
      "Make your guess:\n",
      " 45\n"
     ]
    },
    {
     "name": "stdout",
     "output_type": "stream",
     "text": [
      "Too bad. You made 3 guesses without geussing the correct number.\n",
      "Game over!\n",
      "\n"
     ]
    }
   ],
   "source": [
    "#EXERCISE 1 - extension ■ Number guessing game with up to three trials\n",
    "\n",
    "import random\n",
    "\n",
    "def guessing_game():\n",
    "    print(f\"Try to guess a number from 0 to 100.\\nYou have a maximum of 3 guesses!\\nReady?\\n\")\n",
    "    \n",
    "    while True:    \n",
    "        \n",
    "        number = random.randint(0,100)\n",
    "        trials = 0\n",
    "        \n",
    "        while True:\n",
    "\n",
    "            try:\n",
    "                guess = int(input(\"Make your guess:\\n\"))\n",
    "            except ValueError:\n",
    "                print(\"This is not a valid entry. Enter an integer from 0 to 100\")\n",
    "                continue\n",
    "\n",
    "            trials += 1\n",
    "\n",
    "            if trials < 3:\n",
    "                if guess > number:\n",
    "                    print(\"Too high. Guess again & lower your guess!\")            \n",
    "                elif guess < number:\n",
    "                    print(\"Too low. Guess again & lower your guess!\")\n",
    "                else:\n",
    "                    print(f\"Spot on! I knew you could do it!\\nYou guessed {number} as the correct number in {trials} guesses.\")\n",
    "                    break\n",
    "            else:\n",
    "                print(\"Too bad. You made 3 guesses without geussing the correct number.\\nGame over!\\n\")\n",
    "                break\n",
    "\n",
    "        rerun = input(\"Would you like to play again? Type 'Y' for yes or 'N' for no.\\n\").lower()\n",
    "        if rerun != \"y\":\n",
    "            break\n",
    "\n",
    "guessing_game()"
   ]
  },
  {
   "cell_type": "code",
   "execution_count": null,
   "id": "334afb5e-3117-4083-b3a9-8391843242b2",
   "metadata": {},
   "outputs": [],
   "source": []
  }
 ],
 "metadata": {
  "kernelspec": {
   "display_name": "Python (base)",
   "language": "python",
   "name": "base"
  },
  "language_info": {
   "codemirror_mode": {
    "name": "ipython",
    "version": 3
   },
   "file_extension": ".py",
   "mimetype": "text/x-python",
   "name": "python",
   "nbconvert_exporter": "python",
   "pygments_lexer": "ipython3",
   "version": "3.11.9"
  }
 },
 "nbformat": 4,
 "nbformat_minor": 5
}
